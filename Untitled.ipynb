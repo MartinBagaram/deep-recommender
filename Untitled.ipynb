{
 "cells": [
  {
   "cell_type": "code",
   "execution_count": 4,
   "metadata": {},
   "outputs": [],
   "source": [
    "import pandas as pd\n",
    "import numpy as np\n",
    "import tensorflow as tf\n",
    "from tensorflow import keras\n",
    "from tensorflow.keras.utils import plot_model\n",
    "from tensorflow.keras.layers.experimental import preprocessing\n",
    "\n",
    "from os import path, getcwd, listdir, chdir\n",
    "import matplotlib.pyplot as plt\n",
    "import seaborn as sns\n",
    "from sklearn.preprocessing import OrdinalEncoder\n",
    "from sklearn.model_selection import train_test_split"
   ]
  },
  {
   "cell_type": "code",
   "execution_count": 1,
   "metadata": {},
   "outputs": [],
   "source": [
    "import statsmodels.api as sm\n",
    "from statsmodels.formula.api import ols"
   ]
  },
  {
   "cell_type": "code",
   "execution_count": 2,
   "metadata": {},
   "outputs": [],
   "source": [
    "SEED = 121"
   ]
  },
  {
   "cell_type": "code",
   "execution_count": 45,
   "metadata": {},
   "outputs": [],
   "source": [
    "data = pd.read_csv('./data/train_set_v3.txt', sep='\\t')\n",
    "data.columns = ['hybrid', 'trial', 'year', 'location', 'yields',\n",
    "                 'inbred1', 'inbred2', \n",
    "                 'genetic_inb1', \n",
    "                 'genetic_inb2', 'trial_cl1', 'trial_cl2']"
   ]
  },
  {
   "cell_type": "code",
   "execution_count": 46,
   "metadata": {},
   "outputs": [
    {
     "name": "stdout",
     "output_type": "stream",
     "text": [
      "488620 train examples\n",
      "38004 validation examples\n",
      "16288 test examples\n"
     ]
    }
   ],
   "source": [
    "# data = data.drop(columns=['hybrid'])\n",
    "data.fillna('UNK', inplace=True) \n",
    "data = data.sample(len(data), replace=False, random_state=SEED)\n",
    "train, test = train_test_split(data, test_size=0.1, random_state=SEED)\n",
    "val, test = train_test_split(test, test_size=0.3, random_state=SEED)\n",
    "print(len(train), 'train examples')\n",
    "print(len(val), 'validation examples')\n",
    "print(len(test), 'test examples')\n"
   ]
  },
  {
   "cell_type": "code",
   "execution_count": 48,
   "metadata": {},
   "outputs": [
    {
     "ename": "MemoryError",
     "evalue": "Unable to allocate 16.7 GiB for an array with shape (4587, 488620) and data type float64",
     "output_type": "error",
     "traceback": [
      "\u001b[1;31m---------------------------------------------------------------------------\u001b[0m",
      "\u001b[1;31mMemoryError\u001b[0m                               Traceback (most recent call last)",
      "\u001b[1;32m<ipython-input-48-d0d2516a6db1>\u001b[0m in \u001b[0;36m<module>\u001b[1;34m\u001b[0m\n\u001b[0;32m      5\u001b[0m \u001b[1;31m# d = val.iloc[:20, [4, 5, 6]]\u001b[0m\u001b[1;33m\u001b[0m\u001b[1;33m\u001b[0m\u001b[1;33m\u001b[0m\u001b[0m\n\u001b[0;32m      6\u001b[0m \u001b[1;31m# d.columns = ['y', 'x']\u001b[0m\u001b[1;33m\u001b[0m\u001b[1;33m\u001b[0m\u001b[1;33m\u001b[0m\u001b[0m\n\u001b[1;32m----> 7\u001b[1;33m \u001b[0mmodel\u001b[0m \u001b[1;33m=\u001b[0m \u001b[0mols\u001b[0m\u001b[1;33m(\u001b[0m\u001b[1;34m'yields ~ inbred1 + inbred2'\u001b[0m\u001b[1;33m,\u001b[0m \u001b[0mdata\u001b[0m\u001b[1;33m=\u001b[0m\u001b[0mtrain\u001b[0m\u001b[1;33m)\u001b[0m\u001b[1;33m.\u001b[0m\u001b[0mfit\u001b[0m\u001b[1;33m(\u001b[0m\u001b[1;33m)\u001b[0m\u001b[1;33m\u001b[0m\u001b[1;33m\u001b[0m\u001b[0m\n\u001b[0m",
      "\u001b[1;32mC:\\ProgramData\\Anaconda3\\lib\\site-packages\\statsmodels\\regression\\linear_model.py\u001b[0m in \u001b[0;36mfit\u001b[1;34m(self, method, cov_type, cov_kwds, use_t, **kwargs)\u001b[0m\n\u001b[0;32m    303\u001b[0m                     hasattr(self, 'rank')):\n\u001b[0;32m    304\u001b[0m \u001b[1;33m\u001b[0m\u001b[0m\n\u001b[1;32m--> 305\u001b[1;33m                 \u001b[0mself\u001b[0m\u001b[1;33m.\u001b[0m\u001b[0mpinv_wexog\u001b[0m\u001b[1;33m,\u001b[0m \u001b[0msingular_values\u001b[0m \u001b[1;33m=\u001b[0m \u001b[0mpinv_extended\u001b[0m\u001b[1;33m(\u001b[0m\u001b[0mself\u001b[0m\u001b[1;33m.\u001b[0m\u001b[0mwexog\u001b[0m\u001b[1;33m)\u001b[0m\u001b[1;33m\u001b[0m\u001b[1;33m\u001b[0m\u001b[0m\n\u001b[0m\u001b[0;32m    306\u001b[0m                 self.normalized_cov_params = np.dot(\n\u001b[0;32m    307\u001b[0m                     self.pinv_wexog, np.transpose(self.pinv_wexog))\n",
      "\u001b[1;32mC:\\ProgramData\\Anaconda3\\lib\\site-packages\\statsmodels\\tools\\tools.py\u001b[0m in \u001b[0;36mpinv_extended\u001b[1;34m(X, rcond)\u001b[0m\n\u001b[0;32m    398\u001b[0m             \u001b[0ms\u001b[0m\u001b[1;33m[\u001b[0m\u001b[0mi\u001b[0m\u001b[1;33m]\u001b[0m \u001b[1;33m=\u001b[0m \u001b[1;36m0.\u001b[0m\u001b[1;33m\u001b[0m\u001b[1;33m\u001b[0m\u001b[0m\n\u001b[0;32m    399\u001b[0m     res = np.dot(np.transpose(vt), np.multiply(s[:, np.core.newaxis],\n\u001b[1;32m--> 400\u001b[1;33m                                                np.transpose(u)))\n\u001b[0m\u001b[0;32m    401\u001b[0m     \u001b[1;32mreturn\u001b[0m \u001b[0mres\u001b[0m\u001b[1;33m,\u001b[0m \u001b[0ms_orig\u001b[0m\u001b[1;33m\u001b[0m\u001b[1;33m\u001b[0m\u001b[0m\n\u001b[0;32m    402\u001b[0m \u001b[1;33m\u001b[0m\u001b[0m\n",
      "\u001b[1;31mMemoryError\u001b[0m: Unable to allocate 16.7 GiB for an array with shape (4587, 488620) and data type float64"
     ]
    }
   ],
   "source": [
    "drop = ['hybrid', 'trial', 'year', 'location', 'yield', \n",
    "                 'genetic_inb1', \n",
    "                 'genetic_inb2', 'trial_cl1', 'trial_cl2']\n",
    "# data['yield'] = data['yield'].astype(float)\n",
    "# d = val.iloc[:20, [4, 5, 6]]\n",
    "# d.columns = ['y', 'x']\n",
    "model = ols('yields ~ inbred1 + inbred2', data=train).fit()"
   ]
  },
  {
   "cell_type": "code",
   "execution_count": 42,
   "metadata": {},
   "outputs": [
    {
     "data": {
      "text/html": [
       "<div>\n",
       "<style scoped>\n",
       "    .dataframe tbody tr th:only-of-type {\n",
       "        vertical-align: middle;\n",
       "    }\n",
       "\n",
       "    .dataframe tbody tr th {\n",
       "        vertical-align: top;\n",
       "    }\n",
       "\n",
       "    .dataframe thead th {\n",
       "        text-align: right;\n",
       "    }\n",
       "</style>\n",
       "<table border=\"1\" class=\"dataframe\">\n",
       "  <thead>\n",
       "    <tr style=\"text-align: right;\">\n",
       "      <th></th>\n",
       "      <th>yield</th>\n",
       "      <th>inbred1</th>\n",
       "    </tr>\n",
       "  </thead>\n",
       "  <tbody>\n",
       "    <tr>\n",
       "      <th>472840</th>\n",
       "      <td>246.85</td>\n",
       "      <td>parent_3341</td>\n",
       "    </tr>\n",
       "    <tr>\n",
       "      <th>222698</th>\n",
       "      <td>227.35</td>\n",
       "      <td>parent_3363</td>\n",
       "    </tr>\n",
       "    <tr>\n",
       "      <th>367551</th>\n",
       "      <td>195.74</td>\n",
       "      <td>parent_1327</td>\n",
       "    </tr>\n",
       "    <tr>\n",
       "      <th>236212</th>\n",
       "      <td>190.51</td>\n",
       "      <td>parent_1552</td>\n",
       "    </tr>\n",
       "    <tr>\n",
       "      <th>85830</th>\n",
       "      <td>194.99</td>\n",
       "      <td>parent_2747</td>\n",
       "    </tr>\n",
       "    <tr>\n",
       "      <th>75328</th>\n",
       "      <td>237.94</td>\n",
       "      <td>parent_2412</td>\n",
       "    </tr>\n",
       "    <tr>\n",
       "      <th>307166</th>\n",
       "      <td>265.52</td>\n",
       "      <td>parent_1685</td>\n",
       "    </tr>\n",
       "    <tr>\n",
       "      <th>129659</th>\n",
       "      <td>233.20</td>\n",
       "      <td>parent_41</td>\n",
       "    </tr>\n",
       "    <tr>\n",
       "      <th>292471</th>\n",
       "      <td>180.75</td>\n",
       "      <td>parent_2360</td>\n",
       "    </tr>\n",
       "    <tr>\n",
       "      <th>134276</th>\n",
       "      <td>216.47</td>\n",
       "      <td>parent_41</td>\n",
       "    </tr>\n",
       "    <tr>\n",
       "      <th>474106</th>\n",
       "      <td>155.46</td>\n",
       "      <td>parent_2683</td>\n",
       "    </tr>\n",
       "    <tr>\n",
       "      <th>222555</th>\n",
       "      <td>204.14</td>\n",
       "      <td>parent_3363</td>\n",
       "    </tr>\n",
       "    <tr>\n",
       "      <th>187185</th>\n",
       "      <td>199.45</td>\n",
       "      <td>parent_2644</td>\n",
       "    </tr>\n",
       "    <tr>\n",
       "      <th>278090</th>\n",
       "      <td>224.34</td>\n",
       "      <td>parent_2675</td>\n",
       "    </tr>\n",
       "    <tr>\n",
       "      <th>349261</th>\n",
       "      <td>215.28</td>\n",
       "      <td>parent_1904</td>\n",
       "    </tr>\n",
       "    <tr>\n",
       "      <th>473423</th>\n",
       "      <td>213.95</td>\n",
       "      <td>parent_2683</td>\n",
       "    </tr>\n",
       "    <tr>\n",
       "      <th>129920</th>\n",
       "      <td>151.43</td>\n",
       "      <td>parent_41</td>\n",
       "    </tr>\n",
       "    <tr>\n",
       "      <th>477495</th>\n",
       "      <td>144.02</td>\n",
       "      <td>parent_2159</td>\n",
       "    </tr>\n",
       "    <tr>\n",
       "      <th>247041</th>\n",
       "      <td>259.27</td>\n",
       "      <td>parent_2826</td>\n",
       "    </tr>\n",
       "    <tr>\n",
       "      <th>483730</th>\n",
       "      <td>213.20</td>\n",
       "      <td>parent_4230</td>\n",
       "    </tr>\n",
       "  </tbody>\n",
       "</table>\n",
       "</div>"
      ],
      "text/plain": [
       "         yield      inbred1\n",
       "472840  246.85  parent_3341\n",
       "222698  227.35  parent_3363\n",
       "367551  195.74  parent_1327\n",
       "236212  190.51  parent_1552\n",
       "85830   194.99  parent_2747\n",
       "75328   237.94  parent_2412\n",
       "307166  265.52  parent_1685\n",
       "129659  233.20    parent_41\n",
       "292471  180.75  parent_2360\n",
       "134276  216.47    parent_41\n",
       "474106  155.46  parent_2683\n",
       "222555  204.14  parent_3363\n",
       "187185  199.45  parent_2644\n",
       "278090  224.34  parent_2675\n",
       "349261  215.28  parent_1904\n",
       "473423  213.95  parent_2683\n",
       "129920  151.43    parent_41\n",
       "477495  144.02  parent_2159\n",
       "247041  259.27  parent_2826\n",
       "483730  213.20  parent_4230"
      ]
     },
     "execution_count": 42,
     "metadata": {},
     "output_type": "execute_result"
    }
   ],
   "source": [
    "model"
   ]
  },
  {
   "cell_type": "code",
   "execution_count": 1,
   "metadata": {},
   "outputs": [
    {
     "data": {
      "text/plain": [
       "'/device:GPU:0'"
      ]
     },
     "execution_count": 1,
     "metadata": {},
     "output_type": "execute_result"
    }
   ],
   "source": [
    "import tensorflow as tf\n",
    "tf.test.gpu_device_name()"
   ]
  },
  {
   "cell_type": "code",
   "execution_count": 2,
   "metadata": {},
   "outputs": [
    {
     "data": {
      "text/plain": [
       "'2.4.0'"
      ]
     },
     "execution_count": 2,
     "metadata": {},
     "output_type": "execute_result"
    }
   ],
   "source": [
    "tf.__version__"
   ]
  },
  {
   "cell_type": "code",
   "execution_count": 3,
   "metadata": {},
   "outputs": [
    {
     "data": {
      "text/plain": [
       "['c:\\\\users\\\\martb\\\\.conda\\\\envs\\\\dlenv\\\\lib\\\\site-packages\\\\ipykernel_launcher.py',\n",
       " '-f',\n",
       " 'C:\\\\Users\\\\martb\\\\AppData\\\\Roaming\\\\jupyter\\\\runtime\\\\kernel-287d63dc-86c6-4636-91b9-5a6610a5bebe.json']"
      ]
     },
     "execution_count": 3,
     "metadata": {},
     "output_type": "execute_result"
    }
   ],
   "source": [
    "import sys\n",
    "sys.argv"
   ]
  },
  {
   "cell_type": "code",
   "execution_count": 2,
   "metadata": {},
   "outputs": [
    {
     "name": "stdout",
     "output_type": "stream",
     "text": [
      "Requirement already satisfied: pydot in c:\\users\\martb\\.conda\\envs\\dlenv\\lib\\site-packages (1.4.2)\n",
      "Requirement already satisfied: pyparsing>=2.1.4 in c:\\users\\martb\\.conda\\envs\\dlenv\\lib\\site-packages (from pydot) (2.4.7)\n"
     ]
    }
   ],
   "source": [
    "!pip install pydot"
   ]
  },
  {
   "cell_type": "code",
   "execution_count": 4,
   "metadata": {},
   "outputs": [],
   "source": [
    "import tensorflow as tf\n",
    "gpus = tf.config.experimental.list_physical_devices('GPU')"
   ]
  },
  {
   "cell_type": "code",
   "execution_count": 5,
   "metadata": {},
   "outputs": [
    {
     "data": {
      "text/plain": [
       "[PhysicalDevice(name='/physical_device:GPU:0', device_type='GPU')]"
      ]
     },
     "execution_count": 5,
     "metadata": {},
     "output_type": "execute_result"
    }
   ],
   "source": [
    "gpus"
   ]
  },
  {
   "cell_type": "code",
   "execution_count": null,
   "metadata": {},
   "outputs": [],
   "source": []
  }
 ],
 "metadata": {
  "kernelspec": {
   "display_name": "Python 3",
   "language": "python",
   "name": "python3"
  },
  "language_info": {
   "codemirror_mode": {
    "name": "ipython",
    "version": 3
   },
   "file_extension": ".py",
   "mimetype": "text/x-python",
   "name": "python",
   "nbconvert_exporter": "python",
   "pygments_lexer": "ipython3",
   "version": "3.7.6"
  }
 },
 "nbformat": 4,
 "nbformat_minor": 5
}
